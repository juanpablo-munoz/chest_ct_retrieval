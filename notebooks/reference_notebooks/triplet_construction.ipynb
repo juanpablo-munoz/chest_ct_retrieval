{
 "cells": [
  {
   "cell_type": "markdown",
   "id": "5ed8c438",
   "metadata": {},
   "source": [
    "### Exploring data release in search of presence of positive and negative pairs in order to estimate quantity of valid triplets to train on."
   ]
  },
  {
   "cell_type": "code",
   "execution_count": 1,
   "id": "6e0139d9",
   "metadata": {},
   "outputs": [],
   "source": [
    "# Paths & URLs\n",
    "\n",
    "import os\n",
    "\n",
    "# Directorio base\n",
    "#PATH_BASE = '/content/drive/MyDrive/proximity'\n",
    "PATH_BASE = 'C:\\\\Users\\\\User\\\\Documents\\\\Proyecto Proximity'\n",
    "\n",
    "# Data release actual\n",
    "DATA_RELEASE_PATH = os.path.join(PATH_BASE, 'datalake_sorted')\n",
    "DR70_PATH = os.path.join(PATH_BASE, 'DR70')\n",
    "DR70_LABELS_PATH = os.path.join(DR70_PATH, 'labels.csv')\n",
    "\n",
    "\n",
    "# CTs in Nibabel format\n",
    "CT_NIBABEL_PATH = os.path.join(PATH_BASE, 'DR70', 'CTs')\n",
    "\n",
    "# Embeddings visuales de CTs\n",
    "CT_EMBEDDINGS_PATH = DATA_RELEASE_PATH + '/visual_embeddings'\n",
    "\n",
    "\n",
    "# Etiquetas de los CTs del data release actual\n",
    "#CT_LABELS_CSV_PATH = DATA_RELEASE_PATH + '/labels.csv'\n",
    "\n",
    "# Data release (CTs + etiquetas) organizados en un DataFrame\n",
    "CT_DATASET_DF_HDF_PATH = os.path.join(PATH_BASE, 'dataset_df.h5')\n",
    "CT_DATASET_DF_PICKLE_PATH = os.path.join(PATH_BASE, 'dataset_df.pickle')\n",
    "\n",
    "# URLs de modelos visuales\n",
    "RESNET18_URL = 'microsoft/resnet-18'\n",
    "\n",
    "# Path que contiene los resnet50 embeddings de CTs del data release actual\n",
    "CT_RESNET18_EMBEDDINGS_PATH = os.path.join(DR70_PATH, 'visual_embeddings', 'resnet18')\n",
    "\n",
    "# Path de modelos entrenados en base a tripletas\n",
    "TRIPLET_MODELS_PATH = os.path.join(PATH_BASE, 'retrieval_models', 'triplets')"
   ]
  },
  {
   "cell_type": "code",
   "execution_count": 15,
   "id": "38567acf",
   "metadata": {},
   "outputs": [],
   "source": [
    "import pandas as pd\n",
    "import numpy as np\n",
    "\n",
    "labels_df = pd.read_csv(\n",
    "        DR70_LABELS_PATH, \n",
    "        header=0, \n",
    "        index_col=0, \n",
    "        dtype={'ct': str, 'condensacion': bool, 'nodulos': bool, 'quistes': bool}\n",
    ")"
   ]
  },
  {
   "cell_type": "code",
   "execution_count": 16,
   "id": "dd390356-c9ea-44c0-9105-8c8d239209a6",
   "metadata": {},
   "outputs": [
    {
     "name": "stdout",
     "output_type": "stream",
     "text": [
      "69\n",
      "index: 0\n",
      "index                                                           0\n",
      "CT              1.3.12.2.1107.5.1.4.83504.30000020010601131176...\n",
      "condensacion                                                False\n",
      "nodulos                                                     False\n",
      "quistes                                                     False\n",
      "Name: 0, dtype: object\n",
      "index: 1\n",
      "index                                                           1\n",
      "CT              1.3.12.2.1107.5.1.4.83504.30000020011005321836...\n",
      "condensacion                                                False\n",
      "nodulos                                                     False\n",
      "quistes                                                      True\n",
      "Name: 1, dtype: object\n",
      "index: 2\n",
      "index                                                           2\n",
      "CT              1.3.12.2.1107.5.1.4.83504.30000020011611551677...\n",
      "condensacion                                                False\n",
      "nodulos                                                     False\n",
      "quistes                                                     False\n",
      "Name: 2, dtype: object\n",
      "index: 3\n",
      "index                                                           3\n",
      "CT              1.3.12.2.1107.5.1.4.83504.30000020012212261857...\n",
      "condensacion                                                False\n",
      "nodulos                                                     False\n",
      "quistes                                                     False\n",
      "Name: 3, dtype: object\n",
      "index: 4\n",
      "index                                                           4\n",
      "CT              1.3.12.2.1107.5.1.4.83504.30000020012412224431...\n",
      "condensacion                                                False\n",
      "nodulos                                                     False\n",
      "quistes                                                     False\n",
      "Name: 4, dtype: object\n",
      "index: 5\n",
      "index                                                           5\n",
      "CT              1.3.12.2.1107.5.1.4.83504.30000020012509422378...\n",
      "condensacion                                                False\n",
      "nodulos                                                     False\n",
      "quistes                                                     False\n",
      "Name: 5, dtype: object\n",
      "index: 6\n",
      "index                                                           6\n",
      "CT              1.3.12.2.1107.5.1.4.83504.30000020012509422378...\n",
      "condensacion                                                False\n",
      "nodulos                                                     False\n",
      "quistes                                                     False\n",
      "Name: 6, dtype: object\n",
      "index: 7\n",
      "index                                                           8\n",
      "CT              1.3.12.2.1107.5.1.4.83504.30000020022011094427...\n",
      "condensacion                                                False\n",
      "nodulos                                                     False\n",
      "quistes                                                     False\n",
      "Name: 7, dtype: object\n",
      "index: 8\n",
      "index                                                           9\n",
      "CT              1.3.12.2.1107.5.1.4.83504.30000020022313211252...\n",
      "condensacion                                                False\n",
      "nodulos                                                     False\n",
      "quistes                                                     False\n",
      "Name: 8, dtype: object\n",
      "index: 9\n",
      "index                                                          10\n",
      "CT              1.3.12.2.1107.5.1.4.83504.30000020022412301701...\n",
      "condensacion                                                False\n",
      "nodulos                                                     False\n",
      "quistes                                                     False\n",
      "Name: 9, dtype: object\n",
      "index: 10\n",
      "index                                                          11\n",
      "CT              1.3.12.2.1107.5.1.4.83504.30000020022412301701...\n",
      "condensacion                                                False\n",
      "nodulos                                                     False\n",
      "quistes                                                     False\n",
      "Name: 10, dtype: object\n",
      "index: 11\n",
      "index                                                          12\n",
      "CT              1.3.12.2.1107.5.1.4.83504.30000020031312074086...\n",
      "condensacion                                                False\n",
      "nodulos                                                     False\n",
      "quistes                                                     False\n",
      "Name: 11, dtype: object\n",
      "index: 12\n",
      "index                                                          13\n",
      "CT              1.3.12.2.1107.5.1.4.83504.30000020031912264449...\n",
      "condensacion                                                False\n",
      "nodulos                                                     False\n",
      "quistes                                                     False\n",
      "Name: 12, dtype: object\n",
      "index: 13\n",
      "index                                                          14\n",
      "CT              1.3.12.2.1107.5.1.4.83504.30000020032107172927...\n",
      "condensacion                                                False\n",
      "nodulos                                                     False\n",
      "quistes                                                     False\n",
      "Name: 13, dtype: object\n",
      "index: 14\n",
      "index                                                          15\n",
      "CT              1.3.12.2.1107.5.1.4.83504.30000020032107172927...\n",
      "condensacion                                                False\n",
      "nodulos                                                     False\n",
      "quistes                                                     False\n",
      "Name: 14, dtype: object\n",
      "index: 15\n",
      "index                                                          16\n",
      "CT              1.3.12.2.1107.5.1.4.83504.30000020032301253647...\n",
      "condensacion                                                False\n",
      "nodulos                                                     False\n",
      "quistes                                                     False\n",
      "Name: 15, dtype: object\n",
      "index: 16\n",
      "index                                                          17\n",
      "CT              1.3.12.2.1107.5.1.4.83504.30000020032301253647...\n",
      "condensacion                                                False\n",
      "nodulos                                                     False\n",
      "quistes                                                     False\n",
      "Name: 16, dtype: object\n",
      "index: 17\n",
      "index                                                          18\n",
      "CT              1.3.12.2.1107.5.1.4.83504.30000020032415430541...\n",
      "condensacion                                                False\n",
      "nodulos                                                     False\n",
      "quistes                                                     False\n",
      "Name: 17, dtype: object\n",
      "index: 18\n",
      "index                                                          19\n",
      "CT              1.3.12.2.1107.5.1.4.83504.30000020032605362424...\n",
      "condensacion                                                 True\n",
      "nodulos                                                     False\n",
      "quistes                                                     False\n",
      "Name: 18, dtype: object\n",
      "index: 19\n",
      "index                                                          20\n",
      "CT              1.3.12.2.1107.5.1.4.83504.30000020032605362424...\n",
      "condensacion                                                False\n",
      "nodulos                                                     False\n",
      "quistes                                                     False\n",
      "Name: 19, dtype: object\n",
      "index: 20\n",
      "index                                                          21\n",
      "CT              1.3.12.2.1107.5.1.4.83504.30000020032713345326...\n",
      "condensacion                                                False\n",
      "nodulos                                                     False\n",
      "quistes                                                     False\n",
      "Name: 20, dtype: object\n",
      "index: 21\n",
      "index                                                          22\n",
      "CT              1.3.12.2.1107.5.1.4.83504.30000020032713345326...\n",
      "condensacion                                                False\n",
      "nodulos                                                      True\n",
      "quistes                                                     False\n",
      "Name: 21, dtype: object\n",
      "index: 22\n",
      "index                                                          23\n",
      "CT              1.3.12.2.1107.5.1.4.83504.30000020033114034176...\n",
      "condensacion                                                False\n",
      "nodulos                                                      True\n",
      "quistes                                                     False\n",
      "Name: 22, dtype: object\n",
      "index: 23\n",
      "index                                                          24\n",
      "CT              1.3.12.2.1107.5.1.4.83504.30000020040114181387...\n",
      "condensacion                                                False\n",
      "nodulos                                                      True\n",
      "quistes                                                     False\n",
      "Name: 23, dtype: object\n",
      "index: 24\n",
      "index                                                          25\n",
      "CT              1.3.12.2.1107.5.1.4.83504.30000020040114181387...\n",
      "condensacion                                                False\n",
      "nodulos                                                     False\n",
      "quistes                                                     False\n",
      "Name: 24, dtype: object\n",
      "index: 25\n",
      "index                                                          26\n",
      "CT              1.3.12.2.1107.5.1.4.83504.30000020040114181387...\n",
      "condensacion                                                 True\n",
      "nodulos                                                      True\n",
      "quistes                                                     False\n",
      "Name: 25, dtype: object\n",
      "index: 26\n",
      "index                                                          27\n",
      "CT              1.3.12.2.1107.5.1.4.83504.30000020040114181387...\n",
      "condensacion                                                False\n",
      "nodulos                                                     False\n",
      "quistes                                                     False\n",
      "Name: 26, dtype: object\n",
      "index: 27\n",
      "index                                                          28\n",
      "CT              1.3.12.2.1107.5.1.4.83504.30000020040312502428...\n",
      "condensacion                                                False\n",
      "nodulos                                                     False\n",
      "quistes                                                     False\n",
      "Name: 27, dtype: object\n",
      "index: 28\n",
      "index                                                          29\n",
      "CT              1.3.12.2.1107.5.1.4.83504.30000020040411244951...\n",
      "condensacion                                                 True\n",
      "nodulos                                                     False\n",
      "quistes                                                     False\n",
      "Name: 28, dtype: object\n",
      "index: 29\n",
      "index                                                          30\n",
      "CT              1.3.12.2.1107.5.1.4.83504.30000020040612582395...\n",
      "condensacion                                                False\n",
      "nodulos                                                     False\n",
      "quistes                                                     False\n",
      "Name: 29, dtype: object\n",
      "index: 30\n",
      "index                                                          31\n",
      "CT              1.3.12.2.1107.5.1.4.83504.30000020040612582395...\n",
      "condensacion                                                False\n",
      "nodulos                                                      True\n",
      "quistes                                                     False\n",
      "Name: 30, dtype: object\n",
      "index: 31\n",
      "index                                                          32\n",
      "CT              1.3.12.2.1107.5.1.4.83504.30000020040713115697...\n",
      "condensacion                                                False\n",
      "nodulos                                                      True\n",
      "quistes                                                     False\n",
      "Name: 31, dtype: object\n",
      "index: 32\n",
      "index                                                          33\n",
      "CT              1.3.12.2.1107.5.1.4.83504.30000020040813585174...\n",
      "condensacion                                                 True\n",
      "nodulos                                                     False\n",
      "quistes                                                     False\n",
      "Name: 32, dtype: object\n",
      "index: 33\n",
      "index                                                          34\n",
      "CT              1.3.12.2.1107.5.1.4.83504.30000020040813585174...\n",
      "condensacion                                                False\n",
      "nodulos                                                     False\n",
      "quistes                                                     False\n",
      "Name: 33, dtype: object\n",
      "index: 34\n",
      "index                                                          35\n",
      "CT              1.3.12.2.1107.5.1.4.83504.30000020040906324004...\n",
      "condensacion                                                False\n",
      "nodulos                                                     False\n",
      "quistes                                                     False\n",
      "Name: 34, dtype: object\n",
      "index: 35\n",
      "index                                                          36\n",
      "CT              1.3.12.2.1107.5.1.4.83504.30000020041013514767...\n",
      "condensacion                                                 True\n",
      "nodulos                                                      True\n",
      "quistes                                                     False\n",
      "Name: 35, dtype: object\n",
      "index: 36\n",
      "index                                                          37\n",
      "CT              1.3.12.2.1107.5.1.4.83504.30000020041312075114...\n",
      "condensacion                                                 True\n",
      "nodulos                                                     False\n",
      "quistes                                                     False\n",
      "Name: 36, dtype: object\n",
      "index: 37\n",
      "index                                                          38\n",
      "CT              1.3.12.2.1107.5.1.4.83504.30000020042005533483...\n",
      "condensacion                                                False\n",
      "nodulos                                                     False\n",
      "quistes                                                     False\n",
      "Name: 37, dtype: object\n",
      "index: 38\n",
      "index                                                          39\n",
      "CT              1.3.12.2.1107.5.1.4.83504.30000020042005533483...\n",
      "condensacion                                                False\n",
      "nodulos                                                     False\n",
      "quistes                                                     False\n",
      "Name: 38, dtype: object\n",
      "index: 39\n",
      "index                                                          40\n",
      "CT              1.3.12.2.1107.5.1.4.83504.30000020042113282812...\n",
      "condensacion                                                False\n",
      "nodulos                                                      True\n",
      "quistes                                                     False\n",
      "Name: 39, dtype: object\n",
      "index: 40\n",
      "index                                                          41\n",
      "CT              1.3.12.2.1107.5.1.4.83504.30000020042312393565...\n",
      "condensacion                                                False\n",
      "nodulos                                                     False\n",
      "quistes                                                      True\n",
      "Name: 40, dtype: object\n",
      "index: 41\n",
      "index                                                          42\n",
      "CT              1.3.12.2.1107.5.1.4.83504.30000020042312393565...\n",
      "condensacion                                                False\n",
      "nodulos                                                     False\n",
      "quistes                                                     False\n",
      "Name: 41, dtype: object\n",
      "index: 42\n",
      "index                                                          43\n",
      "CT              1.3.12.2.1107.5.1.4.83504.30000020042506301886...\n",
      "condensacion                                                False\n",
      "nodulos                                                     False\n",
      "quistes                                                     False\n",
      "Name: 42, dtype: object\n",
      "index: 43\n",
      "index                                                          44\n",
      "CT              1.3.12.2.1107.5.1.4.83504.30000020042908352445...\n",
      "condensacion                                                False\n",
      "nodulos                                                     False\n",
      "quistes                                                     False\n",
      "Name: 43, dtype: object\n",
      "index: 44\n",
      "index                                                          45\n",
      "CT              1.3.12.2.1107.5.1.4.83504.30000020050612415432...\n",
      "condensacion                                                False\n",
      "nodulos                                                      True\n",
      "quistes                                                     False\n",
      "Name: 44, dtype: object\n",
      "index: 45\n",
      "index                                                          46\n",
      "CT              1.3.12.2.1107.5.1.4.83504.30000020050812351807...\n",
      "condensacion                                                 True\n",
      "nodulos                                                      True\n",
      "quistes                                                     False\n",
      "Name: 45, dtype: object\n",
      "index: 46\n",
      "index                                                          47\n",
      "CT              1.3.12.2.1107.5.1.4.83885.30000020010306414817...\n",
      "condensacion                                                False\n",
      "nodulos                                                     False\n",
      "quistes                                                     False\n",
      "Name: 46, dtype: object\n",
      "index: 47\n",
      "index                                                          48\n",
      "CT              1.3.12.2.1107.5.1.4.83885.30000020010807204247...\n",
      "condensacion                                                False\n",
      "nodulos                                                      True\n",
      "quistes                                                     False\n",
      "Name: 47, dtype: object\n",
      "index: 48\n",
      "index                                                          49\n",
      "CT              1.3.12.2.1107.5.1.4.83885.30000020011508110329...\n",
      "condensacion                                                False\n",
      "nodulos                                                     False\n",
      "quistes                                                     False\n",
      "Name: 48, dtype: object\n",
      "index: 49\n",
      "index                                                          50\n",
      "CT              1.3.12.2.1107.5.1.4.83885.30000020012808333624...\n",
      "condensacion                                                False\n",
      "nodulos                                                     False\n",
      "quistes                                                     False\n",
      "Name: 49, dtype: object\n",
      "index: 50\n",
      "index                                                          51\n",
      "CT              1.3.12.2.1107.5.1.4.83885.30000020022607321161...\n",
      "condensacion                                                False\n",
      "nodulos                                                     False\n",
      "quistes                                                     False\n",
      "Name: 50, dtype: object\n",
      "index: 51\n",
      "index                                                          52\n",
      "CT              1.3.12.2.1107.5.1.4.83885.30000020032220585619...\n",
      "condensacion                                                False\n",
      "nodulos                                                     False\n",
      "quistes                                                     False\n",
      "Name: 51, dtype: object\n",
      "index: 52\n",
      "index                                                          53\n",
      "CT              1.3.12.2.1107.5.1.4.83885.30000020032721244066...\n",
      "condensacion                                                False\n",
      "nodulos                                                     False\n",
      "quistes                                                     False\n",
      "Name: 52, dtype: object\n",
      "index: 53\n",
      "index                                                          54\n",
      "CT              1.3.12.2.1107.5.1.4.83885.30000020032908281052...\n",
      "condensacion                                                False\n",
      "nodulos                                                      True\n",
      "quistes                                                     False\n",
      "Name: 53, dtype: object\n",
      "index: 54\n",
      "index                                                          55\n",
      "CT              1.3.12.2.1107.5.1.4.83885.30000020032918414003...\n",
      "condensacion                                                False\n",
      "nodulos                                                      True\n",
      "quistes                                                     False\n",
      "Name: 54, dtype: object\n",
      "index: 55\n",
      "index                                                          56\n",
      "CT              1.3.12.2.1107.5.1.4.83885.30000020040311273965...\n",
      "condensacion                                                False\n",
      "nodulos                                                     False\n",
      "quistes                                                     False\n",
      "Name: 55, dtype: object\n",
      "index: 56\n",
      "index                                                          57\n",
      "CT              1.3.12.2.1107.5.1.4.83885.30000020040800575210...\n",
      "condensacion                                                 True\n",
      "nodulos                                                     False\n",
      "quistes                                                     False\n",
      "Name: 56, dtype: object\n",
      "index: 57\n",
      "index                                                          58\n",
      "CT              1.3.12.2.1107.5.1.4.83885.30000020041018133283...\n",
      "condensacion                                                False\n",
      "nodulos                                                     False\n",
      "quistes                                                     False\n",
      "Name: 57, dtype: object\n",
      "index: 58\n",
      "index                                                          59\n",
      "CT              1.3.12.2.1107.5.1.4.83885.30000020041311102572...\n",
      "condensacion                                                 True\n",
      "nodulos                                                     False\n",
      "quistes                                                     False\n",
      "Name: 58, dtype: object\n",
      "index: 59\n",
      "index                                                          60\n",
      "CT              1.3.12.2.1107.5.1.4.83885.30000020041921190219...\n",
      "condensacion                                                False\n",
      "nodulos                                                      True\n",
      "quistes                                                     False\n",
      "Name: 59, dtype: object\n",
      "index: 60\n",
      "index                                                          61\n",
      "CT              1.3.12.2.1107.5.1.4.83885.30000020042113495803...\n",
      "condensacion                                                False\n",
      "nodulos                                                     False\n",
      "quistes                                                     False\n",
      "Name: 60, dtype: object\n",
      "index: 61\n",
      "index                                                          62\n",
      "CT              1.3.12.2.1107.5.1.4.83885.30000020042113495803...\n",
      "condensacion                                                False\n",
      "nodulos                                                      True\n",
      "quistes                                                     False\n",
      "Name: 61, dtype: object\n",
      "index: 62\n",
      "index                                                          63\n",
      "CT              1.3.12.2.1107.5.1.4.83885.30000020042312331339...\n",
      "condensacion                                                False\n",
      "nodulos                                                     False\n",
      "quistes                                                     False\n",
      "Name: 62, dtype: object\n",
      "index: 63\n",
      "index                                                          64\n",
      "CT              1.3.12.2.1107.5.1.4.83885.30000020042614342824...\n",
      "condensacion                                                False\n",
      "nodulos                                                      True\n",
      "quistes                                                     False\n",
      "Name: 63, dtype: object\n",
      "index: 64\n",
      "index                                                          65\n",
      "CT              1.3.12.2.1107.5.1.4.83885.30000020043001192402...\n",
      "condensacion                                                 True\n",
      "nodulos                                                     False\n",
      "quistes                                                     False\n",
      "Name: 64, dtype: object\n",
      "index: 65\n",
      "index                                                          66\n",
      "CT              1.3.12.2.1107.5.1.4.83885.30000020050808374609...\n",
      "condensacion                                                 True\n",
      "nodulos                                                      True\n",
      "quistes                                                     False\n",
      "Name: 65, dtype: object\n",
      "index: 66\n",
      "index                                                          67\n",
      "CT              1.3.12.2.1107.5.1.4.83885.30000020051401333362...\n",
      "condensacion                                                 True\n",
      "nodulos                                                     False\n",
      "quistes                                                     False\n",
      "Name: 66, dtype: object\n",
      "index: 67\n",
      "index                                                          68\n",
      "CT              1.3.12.2.1107.5.1.4.83885.30000020051401333362...\n",
      "condensacion                                                 True\n",
      "nodulos                                                     False\n",
      "quistes                                                     False\n",
      "Name: 67, dtype: object\n",
      "index: 68\n",
      "index                                                          69\n",
      "CT              1.3.12.2.1107.5.1.4.83885.30000020051401333362...\n",
      "condensacion                                                 True\n",
      "nodulos                                                     False\n",
      "quistes                                                     False\n",
      "Name: 68, dtype: object\n"
     ]
    }
   ],
   "source": [
    "labels_df = labels_df.drop(index=[7])\n",
    "print(len(labels_df))\n",
    "labels_df = labels_df.reset_index()\n",
    "for i, data in labels_df.iterrows():\n",
    "    print('index:', i)\n",
    "    a = labels_df.iloc[i]\n",
    "    print(a)"
   ]
  },
  {
   "cell_type": "code",
   "execution_count": 3,
   "id": "3de85e8b",
   "metadata": {},
   "outputs": [],
   "source": [
    "from scipy.spatial.distance import hamming\n",
    "\n",
    "positive_pairs = list()\n",
    "positive_candidates_label_vectors = np.array(labels_df.iloc[:,1:], dtype=int)\n",
    "for j in range(len(labels_df)):\n",
    "    positives = 0\n",
    "    anchor_label_vector = np.array(labels_df.iloc[j].iloc[1:], dtype=int)\n",
    "    for i, positive_candidate_label_vector in enumerate(positive_candidates_label_vectors):\n",
    "        if i == j:\n",
    "            continue\n",
    "        distance = hamming(anchor_label_vector, positive_candidate_label_vector)\n",
    "        if distance == 0.0:\n",
    "            positives += 1\n",
    "    positive_pairs.append(positives)"
   ]
  },
  {
   "cell_type": "code",
   "execution_count": 34,
   "id": "2164a851",
   "metadata": {},
   "outputs": [
    {
     "name": "stdout",
     "output_type": "stream",
     "text": [
      "    condensacion  nodulos  quistes\n",
      "6          False    False    False\n",
      "16         False    False    False\n",
      "2          False    False    False\n",
      "7          False    False    False\n",
      "0          False    False    False\n",
      "5          False    False    False\n",
      "46          True     True    False\n",
      "34         False    False    False\n"
     ]
    }
   ],
   "source": [
    "positive_candidates_label_vectors = labels_df.iloc[[6, 16, 2, 7, 0, 5, 46, 34]].iloc[:,1:]\n",
    "print(positive_candidates_label_vectors)"
   ]
  },
  {
   "cell_type": "code",
   "execution_count": 32,
   "id": "92caf3d4",
   "metadata": {},
   "outputs": [],
   "source": [
    "def get_triplets(positive_pairs_ids_list):\n",
    "        b_ids = set(elem for pair in positive_pairs_ids_list for elem in pair)\n",
    "        print(b_ids)"
   ]
  },
  {
   "cell_type": "code",
   "execution_count": 33,
   "id": "cbba9d48",
   "metadata": {},
   "outputs": [
    {
     "name": "stdout",
     "output_type": "stream",
     "text": [
      "{1, 2, 3, 4}\n"
     ]
    }
   ],
   "source": [
    "get_triplets([[1,2],[3,4]])"
   ]
  },
  {
   "cell_type": "code",
   "execution_count": 57,
   "id": "608b9322",
   "metadata": {},
   "outputs": [],
   "source": [
    "labels_df['emb'] = list(range(2000, 2000+len(labels_df)))\n",
    "    "
   ]
  },
  {
   "cell_type": "code",
   "execution_count": 72,
   "id": "65ba5a5d",
   "metadata": {},
   "outputs": [
    {
     "data": {
      "text/plain": [
       "tensor([2000, 2001, 2002, 2003, 2004, 2005, 2006, 2007, 2008, 2009, 2010, 2011,\n",
       "        2012, 2013, 2014, 2015, 2016, 2017, 2018, 2019, 2020, 2021, 2022, 2023,\n",
       "        2024, 2025, 2026, 2027, 2028, 2029, 2030, 2031, 2032, 2033, 2034, 2035,\n",
       "        2036, 2037, 2038, 2039, 2040, 2041, 2042, 2043, 2044, 2045, 2046, 2047,\n",
       "        2048, 2049, 2050, 2051, 2052, 2053, 2054, 2055, 2056, 2057, 2058, 2059,\n",
       "        2060, 2061, 2062, 2063, 2064, 2065, 2066, 2067, 2068, 2069])"
      ]
     },
     "execution_count": 72,
     "metadata": {},
     "output_type": "execute_result"
    }
   ],
   "source": [
    "torch.tensor(labels_df['emb'])"
   ]
  },
  {
   "cell_type": "code",
   "execution_count": 1,
   "id": "37babbfc",
   "metadata": {},
   "outputs": [],
   "source": [
    "import torch\n",
    "import random\n",
    "s = torch.randn(10,2)\n",
    "t = torch.randn(10,2)"
   ]
  },
  {
   "cell_type": "code",
   "execution_count": 7,
   "id": "15022caa-ad8e-4bf4-8e8d-b70a6729c885",
   "metadata": {},
   "outputs": [
    {
     "data": {
      "text/plain": [
       "tensor([[ 1.0992, -0.3237],\n",
       "        [-1.2417,  0.2403],\n",
       "        [ 0.2229, -0.0543],\n",
       "        [-0.1660,  0.7911],\n",
       "        [-1.1034,  0.7557],\n",
       "        [ 0.1606,  0.2917],\n",
       "        [ 0.8792,  1.5907],\n",
       "        [-1.0642,  0.4998],\n",
       "        [ 1.0189,  0.8441],\n",
       "        [ 1.4127,  1.2274]])"
      ]
     },
     "execution_count": 7,
     "metadata": {},
     "output_type": "execute_result"
    }
   ],
   "source": [
    "s"
   ]
  },
  {
   "cell_type": "code",
   "execution_count": 6,
   "id": "b80ce5ef-8d14-4fb7-b2ba-28369c01cc51",
   "metadata": {},
   "outputs": [
    {
     "data": {
      "text/plain": [
       "tensor([[ 0.8792,  1.5907],\n",
       "        [-1.2417,  0.2403],\n",
       "        [ 0.2229, -0.0543]])"
      ]
     },
     "execution_count": 6,
     "metadata": {},
     "output_type": "execute_result"
    }
   ],
   "source": [
    "s[[6, 1, 2]]"
   ]
  },
  {
   "cell_type": "code",
   "execution_count": 23,
   "id": "9ecda0bb",
   "metadata": {},
   "outputs": [
    {
     "data": {
      "text/plain": [
       "tensor([[-0.1351,  1.3503],\n",
       "        [ 0.9771,  0.4954],\n",
       "        [ 1.0844,  1.8087]])"
      ]
     },
     "execution_count": 23,
     "metadata": {},
     "output_type": "execute_result"
    }
   ],
   "source": [
    "s[[1,0,3]]"
   ]
  },
  {
   "cell_type": "code",
   "execution_count": 120,
   "id": "d8981184",
   "metadata": {},
   "outputs": [
    {
     "data": {
      "text/plain": [
       "tensor([[ 2.0000, -0.7252],\n",
       "        [ 2.0000,  1.1478],\n",
       "        [ 2.0000,  2.1088],\n",
       "        [ 2.0000,  0.2445],\n",
       "        [ 2.0000,  0.4198],\n",
       "        [ 2.0000,  1.8224],\n",
       "        [ 2.0000,  0.9159],\n",
       "        [ 2.0000, -0.6040],\n",
       "        [ 2.0000,  0.8472],\n",
       "        [ 2.0000,  0.8111]])"
      ]
     },
     "execution_count": 120,
     "metadata": {},
     "output_type": "execute_result"
    }
   ],
   "source": [
    "t[:,0] = 2\n",
    "t"
   ]
  },
  {
   "cell_type": "code",
   "execution_count": 137,
   "id": "a900c803",
   "metadata": {},
   "outputs": [
    {
     "data": {
      "text/plain": [
       "tensor([[ 1.0000,  0.8258, -0.7252],\n",
       "        [ 1.0000, -0.9663,  1.1478],\n",
       "        [ 1.0000, -0.5372,  2.1088],\n",
       "        [ 1.0000,  0.7967,  0.2445],\n",
       "        [ 1.0000, -2.1733,  0.4198],\n",
       "        [ 1.0000, -1.6740,  1.8224],\n",
       "        [ 1.0000, -1.5232,  0.9159],\n",
       "        [ 1.0000, -0.9808, -0.6040],\n",
       "        [ 1.0000, -0.7235,  0.8472],\n",
       "        [ 1.0000, -1.4004,  0.8111]])"
      ]
     },
     "execution_count": 137,
     "metadata": {},
     "output_type": "execute_result"
    }
   ],
   "source": [
    "v = list()\n",
    "v = torch.tensor([[ab, b, d] for ([ab, b], [ad, d]) in zip(s, t)])\n",
    "v"
   ]
  },
  {
   "cell_type": "code",
   "execution_count": 138,
   "id": "9da1f559",
   "metadata": {},
   "outputs": [
    {
     "data": {
      "text/plain": [
       "tensor([[-1.3739,  1.0549, -0.7603],\n",
       "        [-0.6921,  0.1192, -0.4236],\n",
       "        [-0.2932, -1.2329, -2.6938],\n",
       "        [ 1.8017,  0.8833, -1.1871],\n",
       "        [ 0.8129,  0.9881, -0.9980],\n",
       "        [-0.3174,  0.6422,  0.1090],\n",
       "        [ 2.2931, -2.2608,  0.5755],\n",
       "        [ 0.2727,  0.7897, -0.1437],\n",
       "        [-0.2199, -0.5634,  2.3380],\n",
       "        [-0.7901,  0.3831, -0.6932]])"
      ]
     },
     "execution_count": 138,
     "metadata": {},
     "output_type": "execute_result"
    }
   ],
   "source": [
    "x = torch.randn(10,3)\n",
    "x"
   ]
  },
  {
   "cell_type": "code",
   "execution_count": 140,
   "id": "1ee9bc17",
   "metadata": {},
   "outputs": [
    {
     "data": {
      "text/plain": [
       "tensor([[ 0.3739, -2.2291, -1.9649],\n",
       "        [-0.3079, -3.0856, -0.4286],\n",
       "        [-0.7068, -1.3043,  2.8026],\n",
       "        [-2.8017, -2.0866, -0.5684],\n",
       "        [-1.8129, -5.1613, -0.5821],\n",
       "        [-0.6826, -4.3162, -0.2867],\n",
       "        [-3.2931, -1.2624, -1.6597],\n",
       "        [-1.2727, -3.7705, -2.4603],\n",
       "        [-0.7801, -2.1601, -3.4908],\n",
       "        [-0.2099, -3.7835, -0.4957]])"
      ]
     },
     "execution_count": 140,
     "metadata": {},
     "output_type": "execute_result"
    }
   ],
   "source": [
    "v-x-2"
   ]
  },
  {
   "cell_type": "code",
   "execution_count": 11,
   "id": "489f5c22",
   "metadata": {},
   "outputs": [
    {
     "ename": "NameError",
     "evalue": "name 'v' is not defined",
     "output_type": "error",
     "traceback": [
      "\u001b[1;31m---------------------------------------------------------------------------\u001b[0m",
      "\u001b[1;31mNameError\u001b[0m                                 Traceback (most recent call last)",
      "Cell \u001b[1;32mIn[11], line 1\u001b[0m\n\u001b[1;32m----> 1\u001b[0m w \u001b[38;5;241m=\u001b[39m torch\u001b[38;5;241m.\u001b[39mselect(v, \u001b[38;5;241m1\u001b[39m, \u001b[38;5;241m0\u001b[39m)\n\u001b[0;32m      2\u001b[0m torch\u001b[38;5;241m.\u001b[39mmean(w)\n",
      "\u001b[1;31mNameError\u001b[0m: name 'v' is not defined"
     ]
    }
   ],
   "source": [
    "w = torch.select(v, 1, 0)\n",
    "torch.mean(w)"
   ]
  },
  {
   "cell_type": "code",
   "execution_count": 20,
   "id": "1903be74",
   "metadata": {},
   "outputs": [
    {
     "ename": "NameError",
     "evalue": "name 'v' is not defined",
     "output_type": "error",
     "traceback": [
      "\u001b[1;31m---------------------------------------------------------------------------\u001b[0m",
      "\u001b[1;31mNameError\u001b[0m                                 Traceback (most recent call last)",
      "Cell \u001b[1;32mIn[20], line 1\u001b[0m\n\u001b[1;32m----> 1\u001b[0m torch\u001b[38;5;241m.\u001b[39mmean(v, axis\u001b[38;5;241m=\u001b[39m\u001b[38;5;241m-\u001b[39m\u001b[38;5;241m2\u001b[39m)\n",
      "\u001b[1;31mNameError\u001b[0m: name 'v' is not defined"
     ]
    }
   ],
   "source": [
    "torch.mean(v, axis=-2)"
   ]
  },
  {
   "cell_type": "code",
   "execution_count": 24,
   "id": "f34bdda3-2164-4586-8eff-a6511663ac1b",
   "metadata": {},
   "outputs": [
    {
     "name": "stdout",
     "output_type": "stream",
     "text": [
      "tensor([ 1.1844, -1.2562, -1.3394, -1.8057, -0.9340])\n",
      "tensor([[ 1.1844, -1.2562, -1.3394, -1.8057, -0.9340],\n",
      "        [ 1.1844, -1.2562, -1.3394, -1.8057, -0.9340],\n",
      "        [ 1.1844, -1.2562, -1.3394, -1.8057, -0.9340],\n",
      "        [ 1.1844, -1.2562, -1.3394, -1.8057, -0.9340],\n",
      "        [ 1.1844, -1.2562, -1.3394, -1.8057, -0.9340],\n",
      "        [ 1.1844, -1.2562, -1.3394, -1.8057, -0.9340],\n",
      "        [ 1.1844, -1.2562, -1.3394, -1.8057, -0.9340],\n",
      "        [ 1.1844, -1.2562, -1.3394, -1.8057, -0.9340],\n",
      "        [ 1.1844, -1.2562, -1.3394, -1.8057, -0.9340],\n",
      "        [ 1.1844, -1.2562, -1.3394, -1.8057, -0.9340]])\n"
     ]
    }
   ],
   "source": [
    "a = torch.randn(5)\n",
    "print(a)\n",
    "print(a.repeat(10, 1))"
   ]
  },
  {
   "cell_type": "code",
   "execution_count": 32,
   "id": "3ad658c3-8479-420f-b9c0-cb5ddf3fbe54",
   "metadata": {},
   "outputs": [
    {
     "data": {
      "text/plain": [
       "tensor([[ 0.1454, -1.3578, -0.9561],\n",
       "        [-0.5726,  2.9780,  0.1769],\n",
       "        [-1.1211,  0.5450, -1.8344],\n",
       "        [-1.0660,  0.6298,  0.1756],\n",
       "        [-1.5861,  1.0915, -1.8288]])"
      ]
     },
     "execution_count": 32,
     "metadata": {},
     "output_type": "execute_result"
    }
   ],
   "source": [
    "b = torch.randn(5, 1, 3)\n",
    "b.squeeze(1)"
   ]
  },
  {
   "cell_type": "code",
   "execution_count": 154,
   "id": "dc01f7da",
   "metadata": {},
   "outputs": [],
   "source": [
    "em = list()"
   ]
  },
  {
   "cell_type": "code",
   "execution_count": 37,
   "id": "e45c6237-5d91-4f00-a40b-bc5574824d89",
   "metadata": {},
   "outputs": [
    {
     "name": "stdout",
     "output_type": "stream",
     "text": [
      "1 1 1\n",
      "2 2 2\n",
      "3 3 3\n"
     ]
    }
   ],
   "source": [
    "c = [(1,1,1),(2,2,2),(3,3,3)]\n",
    "for g, h, j in c:\n",
    "    print(g, h, j)"
   ]
  },
  {
   "cell_type": "code",
   "execution_count": 155,
   "id": "3a4b9a29",
   "metadata": {},
   "outputs": [],
   "source": [
    "em.append(torch.tensor([1]))\n",
    "em.append(torch.tensor([4]))"
   ]
  },
  {
   "cell_type": "code",
   "execution_count": 4,
   "id": "a45166d1-3f1e-45d3-89aa-42683eca662b",
   "metadata": {},
   "outputs": [
    {
     "ename": "RuntimeError",
     "evalue": "a Tensor with 3 elements cannot be converted to Scalar",
     "output_type": "error",
     "traceback": [
      "\u001b[1;31m---------------------------------------------------------------------------\u001b[0m",
      "\u001b[1;31mRuntimeError\u001b[0m                              Traceback (most recent call last)",
      "Cell \u001b[1;32mIn[4], line 3\u001b[0m\n\u001b[0;32m      1\u001b[0m \u001b[38;5;28;01mimport\u001b[39;00m \u001b[38;5;21;01mtorch\u001b[39;00m\n\u001b[0;32m      2\u001b[0m g \u001b[38;5;241m=\u001b[39m torch\u001b[38;5;241m.\u001b[39mtensor([\u001b[38;5;241m5\u001b[39m,\u001b[38;5;241m6\u001b[39m,\u001b[38;5;241m12\u001b[39m])\n\u001b[1;32m----> 3\u001b[0m a, b, c \u001b[38;5;241m=\u001b[39m g\u001b[38;5;241m.\u001b[39mitem()\n\u001b[0;32m      4\u001b[0m \u001b[38;5;28mprint\u001b[39m(a,b,c)\n",
      "\u001b[1;31mRuntimeError\u001b[0m: a Tensor with 3 elements cannot be converted to Scalar"
     ]
    }
   ],
   "source": [
    "import torch\n",
    "g = torch.tensor([5,6,12])\n",
    "f = torch.tensor([[12,5,6]])\n",
    "\n",
    "def _map(batch, triplet_id):\n",
    "    return batch.index(triplet_id)\n",
    "        \n",
    "\n",
    "f.map_("
   ]
  },
  {
   "cell_type": "code",
   "execution_count": 167,
   "id": "e20a43d2",
   "metadata": {},
   "outputs": [
    {
     "ename": "AttributeError",
     "evalue": "'list' object has no attribute 'item'",
     "output_type": "error",
     "traceback": [
      "\u001b[1;31m---------------------------------------------------------------------------\u001b[0m",
      "\u001b[1;31mAttributeError\u001b[0m                            Traceback (most recent call last)",
      "Cell \u001b[1;32mIn[167], line 1\u001b[0m\n\u001b[1;32m----> 1\u001b[0m em\u001b[38;5;241m.\u001b[39mitem()\n",
      "\u001b[1;31mAttributeError\u001b[0m: 'list' object has no attribute 'item'"
     ]
    }
   ],
   "source": [
    "em.item()"
   ]
  },
  {
   "cell_type": "code",
   "execution_count": 168,
   "id": "65591db3",
   "metadata": {},
   "outputs": [],
   "source": [
    "import numpy as np\n",
    "\n",
    "def recall(labels_gt, labels_prediction):\n",
    "    \"\"\"\n",
    "    set of ground truth labels and list of prediction lists. \n",
    "    This is an independent of k way to calculate the recall.\n",
    "    \"\"\"\n",
    "    n = len(labels_prediction)\n",
    "    recall = 0\n",
    "    for i in range(n):\n",
    "        recall += len(set(labels_gt) & set(labels_prediction[i]))/len(labels_gt)\n",
    "    return recall/n\n"
   ]
  },
  {
   "cell_type": "code",
   "execution_count": 170,
   "id": "510995cb",
   "metadata": {},
   "outputs": [
    {
     "data": {
      "text/plain": [
       "0.5"
      ]
     },
     "execution_count": 170,
     "metadata": {},
     "output_type": "execute_result"
    }
   ],
   "source": [
    "a = [2,3,5]\n",
    "b = [[4,5], [1], [2,3], [2,3,5]]\n",
    "\n",
    "recall(a, b)"
   ]
  },
  {
   "cell_type": "code",
   "execution_count": 173,
   "id": "9542b4d8",
   "metadata": {},
   "outputs": [
    {
     "data": {
      "text/plain": [
       "{5}"
      ]
     },
     "execution_count": 173,
     "metadata": {},
     "output_type": "execute_result"
    }
   ],
   "source": [
    "set(a) & set(b[0])"
   ]
  },
  {
   "cell_type": "code",
   "execution_count": 1,
   "id": "d2bc9a40",
   "metadata": {},
   "outputs": [],
   "source": [
    "import torch\n",
    "\n",
    "a = torch.randn(7, 3)"
   ]
  },
  {
   "cell_type": "code",
   "execution_count": 2,
   "id": "3c1e21f3-448b-4945-95f2-34694f9feb6c",
   "metadata": {},
   "outputs": [
    {
     "data": {
      "text/plain": [
       "tensor([[ 0.7367,  0.3216,  0.2477],\n",
       "        [-0.1080, -0.3605, -1.2283],\n",
       "        [-0.8314, -0.8390, -2.4077],\n",
       "        [-0.5620, -1.7346, -2.3677],\n",
       "        [-0.9147, -2.2411,  1.1041],\n",
       "        [ 1.0680,  0.7939,  0.3732],\n",
       "        [ 1.1735,  0.7841,  0.3128]])"
      ]
     },
     "execution_count": 2,
     "metadata": {},
     "output_type": "execute_result"
    }
   ],
   "source": [
    "a"
   ]
  },
  {
   "cell_type": "code",
   "execution_count": 10,
   "id": "5609afc1-6651-45c5-956d-b3b921965dcc",
   "metadata": {},
   "outputs": [],
   "source": [
    "b = a.select(1,0)\n",
    "c = a.select(1,1)\n",
    "d = a.select(1,2)"
   ]
  },
  {
   "cell_type": "code",
   "execution_count": 11,
   "id": "37b93579-36f9-4581-b93b-b33dff558386",
   "metadata": {},
   "outputs": [
    {
     "name": "stdout",
     "output_type": "stream",
     "text": [
      "tensor(0.7367)\n",
      "tensor(-0.1080)\n",
      "tensor(-0.8314)\n",
      "tensor(-0.5620)\n",
      "tensor(-0.9147)\n",
      "tensor(1.0680)\n",
      "tensor(1.1735)\n"
     ]
    }
   ],
   "source": [
    "for i, j, k in zip(b, c, d):\n",
    "    print(i)"
   ]
  },
  {
   "cell_type": "code",
   "execution_count": 13,
   "id": "ec957af9-a322-4061-ac90-02337761a310",
   "metadata": {},
   "outputs": [
    {
     "data": {
      "text/plain": [
       "tensor([[ 0.7367, -0.1080, -0.8314, -0.5620, -0.9147,  1.0680,  1.1735],\n",
       "        [ 0.3216, -0.3605, -0.8390, -1.7346, -2.2411,  0.7939,  0.7841],\n",
       "        [ 0.2477, -1.2283, -2.4077, -2.3677,  1.1041,  0.3732,  0.3128]])"
      ]
     },
     "execution_count": 13,
     "metadata": {},
     "output_type": "execute_result"
    }
   ],
   "source": [
    "a.transpose(0, 1)"
   ]
  },
  {
   "cell_type": "code",
   "execution_count": 15,
   "id": "029171b3-4eea-4e2e-b8b2-05f36efba05c",
   "metadata": {},
   "outputs": [
    {
     "data": {
      "text/plain": [
       "tensor([[ 0.4534,  0.7670, -0.0280, -2.9217, -0.8123,  0.3854,  1.1842],\n",
       "        [ 0.4907,  0.2238,  0.4161, -0.5768, -0.8418,  0.1310,  0.6501],\n",
       "        [-0.1863, -0.4779,  0.7546,  0.7713,  0.6960, -0.8343, -1.5945]])"
      ]
     },
     "execution_count": 15,
     "metadata": {},
     "output_type": "execute_result"
    }
   ],
   "source": [
    "b = torch.randn(3, 7)\n",
    "b"
   ]
  },
  {
   "cell_type": "code",
   "execution_count": 16,
   "id": "c6d87607-7f10-4ebd-b22e-bf2900fa610f",
   "metadata": {},
   "outputs": [
    {
     "data": {
      "text/plain": [
       "tensor([[ 0.4534,  0.4907, -0.1863],\n",
       "        [ 0.7670,  0.2238, -0.4779],\n",
       "        [-0.0280,  0.4161,  0.7546],\n",
       "        [-2.9217, -0.5768,  0.7713],\n",
       "        [-0.8123, -0.8418,  0.6960],\n",
       "        [ 0.3854,  0.1310, -0.8343],\n",
       "        [ 1.1842,  0.6501, -1.5945]])"
      ]
     },
     "execution_count": 16,
     "metadata": {},
     "output_type": "execute_result"
    }
   ],
   "source": [
    "b.transpose(0, 1)"
   ]
  },
  {
   "cell_type": "code",
   "execution_count": 17,
   "id": "3a554218-1695-4274-a9d5-c3f5a96ec602",
   "metadata": {},
   "outputs": [
    {
     "data": {
      "text/plain": [
       "tensor(0)"
      ]
     },
     "execution_count": 17,
     "metadata": {},
     "output_type": "execute_result"
    }
   ],
   "source": [
    "torch.tensor(0)"
   ]
  },
  {
   "cell_type": "code",
   "execution_count": 23,
   "id": "c1000006-b304-4597-a045-3555c4aaa6b0",
   "metadata": {},
   "outputs": [
    {
     "data": {
      "text/plain": [
       "tensor([ 0.7870, -1.2921,  0.6441,  1.6434, -0.7938,  1.3081, -1.1897])"
      ]
     },
     "execution_count": 23,
     "metadata": {},
     "output_type": "execute_result"
    }
   ],
   "source": [
    "a = torch.randn(7)\n",
    "a"
   ]
  },
  {
   "cell_type": "code",
   "execution_count": 24,
   "id": "1d168fd5-cf0d-4b55-83da-14859ff30d31",
   "metadata": {},
   "outputs": [
    {
     "data": {
      "text/plain": [
       "tensor([ 0.7870, -1.2921,  0.6441,  1.6434, -0.7938,  1.3081, -1.1897])"
      ]
     },
     "execution_count": 24,
     "metadata": {},
     "output_type": "execute_result"
    }
   ],
   "source": [
    "torch.func.vmap(torch.max)(a)"
   ]
  },
  {
   "cell_type": "code",
   "execution_count": 42,
   "id": "f92f74e3-1937-473f-93c0-6cd6e3be1869",
   "metadata": {},
   "outputs": [],
   "source": [
    "def _max(a, b):\n",
    "    if a > b:\n",
    "        return a\n",
    "    return b"
   ]
  },
  {
   "cell_type": "code",
   "execution_count": 48,
   "id": "a9f43115-9e82-470c-94c7-9800988b09a1",
   "metadata": {},
   "outputs": [
    {
     "ename": "AttributeError",
     "evalue": "'Tensor' object has no attribute 'apply'",
     "output_type": "error",
     "traceback": [
      "\u001b[1;31m---------------------------------------------------------------------------\u001b[0m",
      "\u001b[1;31mAttributeError\u001b[0m                            Traceback (most recent call last)",
      "Cell \u001b[1;32mIn[48], line 1\u001b[0m\n\u001b[1;32m----> 1\u001b[0m a\u001b[38;5;241m.\u001b[39mapply(torch\u001b[38;5;241m.\u001b[39mzeros(\u001b[38;5;241m7\u001b[39m), _max)\n",
      "\u001b[1;31mAttributeError\u001b[0m: 'Tensor' object has no attribute 'apply'"
     ]
    }
   ],
   "source": [
    "a.apply(torch.zeros(7), _max)"
   ]
  },
  {
   "cell_type": "code",
   "execution_count": 46,
   "id": "5780eab9-8b01-4b55-a068-e000a60b7218",
   "metadata": {},
   "outputs": [
    {
     "data": {
      "text/plain": [
       "tensor([ 0.5870, -0.2000,  0.4441,  1.4434, -0.2000,  1.1081, -0.2000])"
      ]
     },
     "execution_count": 46,
     "metadata": {},
     "output_type": "execute_result"
    }
   ],
   "source": [
    "a - 0.2"
   ]
  },
  {
   "cell_type": "code",
   "execution_count": 53,
   "id": "c39d8a38-0db1-45cc-a03d-b9edf838474e",
   "metadata": {},
   "outputs": [
    {
     "data": {
      "text/plain": [
       "tensor(0.6261)"
      ]
     },
     "execution_count": 53,
     "metadata": {},
     "output_type": "execute_result"
    }
   ],
   "source": [
    "torch.mean(a)"
   ]
  },
  {
   "cell_type": "code",
   "execution_count": 56,
   "id": "0a123860-9693-449c-9b33-421c05114f00",
   "metadata": {},
   "outputs": [
    {
     "data": {
      "text/plain": [
       "'a'"
      ]
     },
     "execution_count": 56,
     "metadata": {},
     "output_type": "execute_result"
    }
   ],
   "source": [
    "'a'[-1]"
   ]
  },
  {
   "cell_type": "code",
   "execution_count": 9,
   "id": "e37ee996-6260-468c-a900-c94ab5337e46",
   "metadata": {},
   "outputs": [
    {
     "name": "stdout",
     "output_type": "stream",
     "text": [
      "[0, 1, 2, 3, 4, 5, 6, 7, 8]\n"
     ]
    },
    {
     "ename": "TypeError",
     "evalue": "'SequentialSampler' object is not subscriptable",
     "output_type": "error",
     "traceback": [
      "\u001b[1;31m---------------------------------------------------------------------------\u001b[0m",
      "\u001b[1;31mTypeError\u001b[0m                                 Traceback (most recent call last)",
      "Cell \u001b[1;32mIn[9], line 7\u001b[0m\n\u001b[0;32m      4\u001b[0m seq \u001b[38;5;241m=\u001b[39m SequentialSampler(\u001b[38;5;28mrange\u001b[39m(\u001b[38;5;241m5\u001b[39m, \u001b[38;5;241m14\u001b[39m))\n\u001b[0;32m      6\u001b[0m \u001b[38;5;28mprint\u001b[39m(\u001b[38;5;28mlist\u001b[39m(seq))\n\u001b[1;32m----> 7\u001b[0m \u001b[38;5;28mprint\u001b[39m(seq[\u001b[38;5;241m0\u001b[39m])\n\u001b[0;32m      9\u001b[0m \u001b[38;5;28mprint\u001b[39m(\u001b[38;5;28mlist\u001b[39m(BatchSampler(SequentialSampler(\u001b[38;5;28mrange\u001b[39m(\u001b[38;5;241m5\u001b[39m, \u001b[38;5;241m14\u001b[39m)), batch_size\u001b[38;5;241m=\u001b[39m\u001b[38;5;241m3\u001b[39m, drop_last\u001b[38;5;241m=\u001b[39m\u001b[38;5;28;01mFalse\u001b[39;00m)))\n",
      "\u001b[1;31mTypeError\u001b[0m: 'SequentialSampler' object is not subscriptable"
     ]
    }
   ],
   "source": [
    "import torch\n",
    "from torch.utils.data import BatchSampler, SequentialSampler\n",
    "\n",
    "seq = SequentialSampler(range(5, 14))\n",
    "\n",
    "print(list(seq))\n",
    "print(seq[0])\n",
    "\n",
    "print(list(BatchSampler(SequentialSampler(range(5, 14)), batch_size=3, drop_last=False)))"
   ]
  },
  {
   "cell_type": "code",
   "execution_count": null,
   "id": "dd88aa6f-23f1-4f97-901e-0abd6b6d3a8d",
   "metadata": {},
   "outputs": [],
   "source": []
  }
 ],
 "metadata": {
  "kernelspec": {
   "display_name": "Python 3 (ipykernel)",
   "language": "python",
   "name": "python3"
  },
  "language_info": {
   "codemirror_mode": {
    "name": "ipython",
    "version": 3
   },
   "file_extension": ".py",
   "mimetype": "text/x-python",
   "name": "python",
   "nbconvert_exporter": "python",
   "pygments_lexer": "ipython3",
   "version": "3.11.8"
  }
 },
 "nbformat": 4,
 "nbformat_minor": 5
}
